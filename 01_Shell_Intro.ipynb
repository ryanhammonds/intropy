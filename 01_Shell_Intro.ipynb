{
 "cells": [
  {
   "cell_type": "markdown",
   "id": "ba7a8ce8-0790-4ef9-ba69-2545daf3788c",
   "metadata": {},
   "source": [
    "# Shell Intro\n",
    "\n",
    "Installing python and managing python environments. This notebook assumes you have a linux terminal (e.g. bash, zsh, etc). Windows users are advised to install Ubuntu from the Microsoft Store.\n",
    "\n",
    "Notes\n",
    "-----\n",
    "\n",
    "\n",
    "The some commands below use `echo` to print the commands. Omit `echo` when running for the first time.\n",
    "\n",
    "Words that appear with `this` styling represent code, either python or bash."
   ]
  },
  {
   "cell_type": "markdown",
   "id": "a58d07f3-f121-4c83-b4bf-7aa69a08c3ef",
   "metadata": {},
   "source": [
    "1. Navigating Shell\n",
    "\n",
    "- `pwd` shows which folder you are in. \n",
    "- `ls` list all files in the folder you are in.\n",
    "- `cd` changes from one folder to another\n",
    "\n",
    "Assuming we are in the `intropy` folder, we can move back a folder using the relative path (in this case `..` means back one foler. `../../` means up two folders, etc:\n",
    "\n",
    "```\n",
    "cd ../\n",
    "```\n",
    "or the full path\n",
    "```\n",
    "cd /home/rphammonds/projects/\n",
    "```\n",
    "\n",
    "These basic commands do not require the `%%bash` cell tag in jupyter."
   ]
  },
  {
   "cell_type": "code",
   "execution_count": 1,
   "id": "715c9116-78b8-4054-bf4a-c6eff36c94f6",
   "metadata": {},
   "outputs": [
    {
     "data": {
      "text/plain": [
       "'/home/rphammonds/projects/intropy'"
      ]
     },
     "execution_count": 1,
     "metadata": {},
     "output_type": "execute_result"
    }
   ],
   "source": [
    "pwd"
   ]
  },
  {
   "cell_type": "code",
   "execution_count": 2,
   "id": "dd7aff0b-30a2-4e4f-836e-1fa724846d6a",
   "metadata": {},
   "outputs": [
    {
     "name": "stdout",
     "output_type": "stream",
     "text": [
      "01_Intro_Shell.ipynb\n"
     ]
    }
   ],
   "source": [
    "ls"
   ]
  },
  {
   "cell_type": "code",
   "execution_count": 3,
   "id": "2d116df4-c2b5-4c93-9db2-d694ec71577d",
   "metadata": {},
   "outputs": [
    {
     "name": "stdout",
     "output_type": "stream",
     "text": [
      "/home/rphammonds/projects\n"
     ]
    }
   ],
   "source": [
    "cd ../"
   ]
  },
  {
   "cell_type": "code",
   "execution_count": 4,
   "id": "22db9162-f931-43f3-867e-c3d006c6aa5c",
   "metadata": {},
   "outputs": [
    {
     "name": "stdout",
     "output_type": "stream",
     "text": [
      "/home/rphammonds/projects/intropy\n"
     ]
    }
   ],
   "source": [
    "cd /home/rphammonds/projects/intropy"
   ]
  },
  {
   "cell_type": "markdown",
   "id": "0a920eac-13e2-4251-9078-26601355d59a",
   "metadata": {},
   "source": [
    "01. Installing Python\n",
    "\n",
    "To install the latest version of python3, run this in a terminal or using `%%bash` tag in jupyter. Below it the `apt` command assumes you are on a Ubuntu or Debian flavor of Linux. `sudo` refers to 'super-user do', requires a password, and runs the following command with adminstrator privledges."
   ]
  },
  {
   "cell_type": "code",
   "execution_count": 5,
   "id": "3bb027e4-cb2f-4ff8-92d6-52b845af9c1f",
   "metadata": {},
   "outputs": [
    {
     "name": "stdout",
     "output_type": "stream",
     "text": [
      "sudo apt install python3\n"
     ]
    }
   ],
   "source": [
    "%%bash\n",
    "echo sudo apt install python3"
   ]
  },
  {
   "cell_type": "markdown",
   "id": "4881438b-99ee-4550-ad8c-e17c299a876f",
   "metadata": {},
   "source": [
    "2. Virtual Environments\n",
    "\n",
    "Vitrual environments are usefull for maintaining isolated environments per project. For example, project A may require version X of numpy and project B may require version Y.\n",
    "\n",
    "The command below creates a new folder in the current folder named `.env`. I recommend doing this for each new project."
   ]
  },
  {
   "cell_type": "code",
   "execution_count": 6,
   "id": "e70caf8a-a3b5-47fb-a270-3b6db2733841",
   "metadata": {},
   "outputs": [
    {
     "name": "stdout",
     "output_type": "stream",
     "text": [
      "python3 -m venv .env\n",
      "source .env/bin/activate\n"
     ]
    }
   ],
   "source": [
    "%%bash\n",
    "echo python3 -m venv .env\n",
    "echo source .env/bin/activate"
   ]
  },
  {
   "cell_type": "markdown",
   "id": "d54f0142-2c25-40ef-b8cd-06a75c2d80c7",
   "metadata": {},
   "source": [
    "## 3. Installing python packages\n",
    "\n",
    "Python packages are installed with the `pip` command."
   ]
  },
  {
   "cell_type": "code",
   "execution_count": 7,
   "id": "c65c2075-06e3-4a94-9b18-932a96bfd92c",
   "metadata": {},
   "outputs": [
    {
     "name": "stdout",
     "output_type": "stream",
     "text": [
      "pip install jupyter numpy pandas\n"
     ]
    }
   ],
   "source": [
    "%%bash\n",
    "echo pip install jupyter numpy pandas"
   ]
  }
 ],
 "metadata": {
  "kernelspec": {
   "display_name": "Python 3",
   "language": "python",
   "name": "python3"
  },
  "language_info": {
   "codemirror_mode": {
    "name": "ipython",
    "version": 3
   },
   "file_extension": ".py",
   "mimetype": "text/x-python",
   "name": "python",
   "nbconvert_exporter": "python",
   "pygments_lexer": "ipython3",
   "version": "3.8.10"
  }
 },
 "nbformat": 4,
 "nbformat_minor": 5
}
