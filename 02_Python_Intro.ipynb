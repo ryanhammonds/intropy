{
 "cells": [
  {
   "cell_type": "markdown",
   "id": "e104cb2c-da6c-4e4e-a828-509f1703e5d6",
   "metadata": {},
   "source": [
    "# Python Basics\n",
    "\n",
    "In Python, all variables are objects (aka classes) with specific types. Below we go over the common built-in types. The `type` command returns the type of an objects. All objects in python have types (i.e. classes membership).\n",
    "\n",
    "In jupyter, we can using the last line of a cell to inspect objects. We can also explicitly call print."
   ]
  },
  {
   "cell_type": "code",
   "execution_count": 1,
   "id": "9485b311-e819-4b77-ada1-a73ac73f8b7c",
   "metadata": {},
   "outputs": [
    {
     "data": {
      "text/plain": [
       "int"
      ]
     },
     "execution_count": 1,
     "metadata": {},
     "output_type": "execute_result"
    }
   ],
   "source": [
    "ex_int = 1\n",
    "type(ex_int)"
   ]
  },
  {
   "cell_type": "code",
   "execution_count": 2,
   "id": "7f772c0e-3fad-4749-b99c-68f3b4c343d5",
   "metadata": {},
   "outputs": [
    {
     "name": "stdout",
     "output_type": "stream",
     "text": [
      "<class 'int'>\n"
     ]
    }
   ],
   "source": [
    "ex_int_type = type(ex_int)\n",
    "print(ex_int_type)"
   ]
  },
  {
   "cell_type": "code",
   "execution_count": 3,
   "id": "ebde4c87-9560-40e1-a946-098e5d29a193",
   "metadata": {},
   "outputs": [
    {
     "data": {
      "text/plain": [
       "float"
      ]
     },
     "execution_count": 3,
     "metadata": {},
     "output_type": "execute_result"
    }
   ],
   "source": [
    "ex_float = 1.8\n",
    "type(ex_float)"
   ]
  },
  {
   "cell_type": "code",
   "execution_count": 4,
   "id": "2043259f-e9e8-4347-b823-6df78b7517d7",
   "metadata": {},
   "outputs": [
    {
     "data": {
      "text/plain": [
       "str"
      ]
     },
     "execution_count": 4,
     "metadata": {},
     "output_type": "execute_result"
    }
   ],
   "source": [
    "ex_str = 'test'\n",
    "type(ex_str)"
   ]
  },
  {
   "cell_type": "code",
   "execution_count": 5,
   "id": "74b010aa-0af5-4de4-9f59-bbef44b2421d",
   "metadata": {},
   "outputs": [
    {
     "data": {
      "text/plain": [
       "bool"
      ]
     },
     "execution_count": 5,
     "metadata": {},
     "output_type": "execute_result"
    }
   ],
   "source": [
    "ex_bool = True\n",
    "type(ex_bool)"
   ]
  },
  {
   "cell_type": "markdown",
   "id": "2b1af3e6-56d2-4a6b-8803-b6295ea21f5e",
   "metadata": {},
   "source": [
    "Ints and floats may be altered using math operators."
   ]
  },
  {
   "cell_type": "code",
   "execution_count": 6,
   "id": "868b0b8b-599c-46de-8df0-763b8082ddf9",
   "metadata": {},
   "outputs": [
    {
     "data": {
      "text/plain": [
       "11"
      ]
     },
     "execution_count": 6,
     "metadata": {},
     "output_type": "execute_result"
    }
   ],
   "source": [
    "# additon\n",
    "ex_int + 10"
   ]
  },
  {
   "cell_type": "code",
   "execution_count": 7,
   "id": "0990ff13-8d71-4ca4-8081-f5b82a4c22d7",
   "metadata": {},
   "outputs": [
    {
     "data": {
      "text/plain": [
       "-9"
      ]
     },
     "execution_count": 7,
     "metadata": {},
     "output_type": "execute_result"
    }
   ],
   "source": [
    "# subtracion\n",
    "ex_int - 10"
   ]
  },
  {
   "cell_type": "code",
   "execution_count": 8,
   "id": "4a96d7ac-3ffb-4560-9db8-a4d3b88d2d0e",
   "metadata": {},
   "outputs": [
    {
     "data": {
      "text/plain": [
       "2"
      ]
     },
     "execution_count": 8,
     "metadata": {},
     "output_type": "execute_result"
    }
   ],
   "source": [
    "# multiplication\n",
    "ex_int * 2"
   ]
  },
  {
   "cell_type": "code",
   "execution_count": 9,
   "id": "926935af-ff9f-493e-b715-c50827e88012",
   "metadata": {},
   "outputs": [
    {
     "data": {
      "text/plain": [
       "0.1"
      ]
     },
     "execution_count": 9,
     "metadata": {},
     "output_type": "execute_result"
    }
   ],
   "source": [
    "# division returns a float\n",
    "ex_int / 10"
   ]
  },
  {
   "cell_type": "code",
   "execution_count": 10,
   "id": "17a4898d-d181-4c7c-9622-72551328084d",
   "metadata": {},
   "outputs": [
    {
     "data": {
      "text/plain": [
       "8.0"
      ]
     },
     "execution_count": 10,
     "metadata": {},
     "output_type": "execute_result"
    }
   ],
   "source": [
    "# powers\n",
    "2 ** 3."
   ]
  },
  {
   "cell_type": "code",
   "execution_count": 11,
   "id": "67955b18-df00-438d-b5c3-fb924116adc3",
   "metadata": {},
   "outputs": [
    {
     "data": {
      "text/plain": [
       "2.0"
      ]
     },
     "execution_count": 11,
     "metadata": {},
     "output_type": "execute_result"
    }
   ],
   "source": [
    "4 ** (1/2)"
   ]
  },
  {
   "cell_type": "code",
   "execution_count": 12,
   "id": "3bda43bc-6b8a-423f-b2ca-315975b5adbb",
   "metadata": {},
   "outputs": [
    {
     "data": {
      "text/plain": [
       "3"
      ]
     },
     "execution_count": 12,
     "metadata": {},
     "output_type": "execute_result"
    }
   ],
   "source": [
    "# Integer division\n",
    "10 // 3"
   ]
  },
  {
   "cell_type": "code",
   "execution_count": 13,
   "id": "70e886f6-3354-4082-85d1-9dafd8a00ead",
   "metadata": {},
   "outputs": [
    {
     "data": {
      "text/plain": [
       "1"
      ]
     },
     "execution_count": 13,
     "metadata": {},
     "output_type": "execute_result"
    }
   ],
   "source": [
    "# % returns the remainder\n",
    "10 % 3"
   ]
  },
  {
   "cell_type": "code",
   "execution_count": 14,
   "id": "4b7a4840-c5c4-4cbe-a0cf-641f16039db9",
   "metadata": {},
   "outputs": [
    {
     "data": {
      "text/plain": [
       "True"
      ]
     },
     "execution_count": 14,
     "metadata": {},
     "output_type": "execute_result"
    }
   ],
   "source": [
    "3 >= 2"
   ]
  },
  {
   "cell_type": "code",
   "execution_count": 15,
   "id": "588059d6-64cd-4723-9c56-99b4c6f7774e",
   "metadata": {},
   "outputs": [
    {
     "data": {
      "text/plain": [
       "False"
      ]
     },
     "execution_count": 15,
     "metadata": {},
     "output_type": "execute_result"
    }
   ],
   "source": [
    "3 == 2"
   ]
  },
  {
   "cell_type": "code",
   "execution_count": 16,
   "id": "77840bde-36fc-4846-a886-2924a36b5b58",
   "metadata": {},
   "outputs": [
    {
     "data": {
      "text/plain": [
       "'test_extra_letters'"
      ]
     },
     "execution_count": 16,
     "metadata": {},
     "output_type": "execute_result"
    }
   ],
   "source": [
    "ex_str + '_extra_letters'"
   ]
  },
  {
   "cell_type": "markdown",
   "id": "f7830133-bc74-47ce-b01b-e74191f05b07",
   "metadata": {},
   "source": [
    " Classes have methods (aka class functions) that may be used to manipulate the object. In jupyter, press ```tab``` after typing ```ex_float.``` to list availble methods."
   ]
  },
  {
   "cell_type": "code",
   "execution_count": 17,
   "id": "bcd8b8f8-e709-4c60-912f-4240e548c013",
   "metadata": {},
   "outputs": [
    {
     "data": {
      "text/plain": [
       "False"
      ]
     },
     "execution_count": 17,
     "metadata": {},
     "output_type": "execute_result"
    }
   ],
   "source": [
    "ex_float.is_integer()"
   ]
  },
  {
   "cell_type": "code",
   "execution_count": 18,
   "id": "5ddb42ed-433b-4693-bef9-b8c4eae1c5ee",
   "metadata": {},
   "outputs": [
    {
     "data": {
      "text/plain": [
       "'Test'"
      ]
     },
     "execution_count": 18,
     "metadata": {},
     "output_type": "execute_result"
    }
   ],
   "source": [
    "ex_str.capitalize()"
   ]
  },
  {
   "cell_type": "markdown",
   "id": "353072c8-1219-48d9-9f47-fa19d092ca31",
   "metadata": {},
   "source": [
    "### Collections\n",
    "Objects may be collected into three builtin types:\n",
    "    \n",
    "- list\n",
    "- tuple\n",
    "- dictionary"
   ]
  },
  {
   "cell_type": "markdown",
   "id": "dd33d255-4a81-4c99-92f0-fcd19be1c39c",
   "metadata": {},
   "source": [
    "### Lists\n",
    "List are used to collect objects. Lists are used when the items are needed to be added or removed from the list. List are defined using brackets."
   ]
  },
  {
   "cell_type": "code",
   "execution_count": 19,
   "id": "65a14d39-9e0a-4294-9ace-3eec234ed2fa",
   "metadata": {},
   "outputs": [
    {
     "name": "stdout",
     "output_type": "stream",
     "text": [
      "['one', 'two', 'three']\n"
     ]
    }
   ],
   "source": [
    "ex_list = ['one', 'two', 'three']\n",
    "print(ex_list)"
   ]
  },
  {
   "cell_type": "markdown",
   "id": "d5e138dc-e892-4943-8449-fe96088331d8",
   "metadata": {},
   "source": [
    "### Indexing & Slicing\n",
    "\n",
    "Items in a list are referenced by index. The first object in the list starts at index zero. Slices are ways to reference the group of subset of objects in the list. Negative indices reference from the end of the list."
   ]
  },
  {
   "cell_type": "code",
   "execution_count": 20,
   "id": "54d87796-b872-43ca-871c-649732cc663f",
   "metadata": {},
   "outputs": [
    {
     "data": {
      "text/plain": [
       "'one'"
      ]
     },
     "execution_count": 20,
     "metadata": {},
     "output_type": "execute_result"
    }
   ],
   "source": [
    "ex_list[0]"
   ]
  },
  {
   "cell_type": "code",
   "execution_count": 21,
   "id": "cd11d594-534d-4964-8d59-7c464ec33619",
   "metadata": {},
   "outputs": [
    {
     "data": {
      "text/plain": [
       "'three'"
      ]
     },
     "execution_count": 21,
     "metadata": {},
     "output_type": "execute_result"
    }
   ],
   "source": [
    "ex_list[-1]"
   ]
  },
  {
   "cell_type": "code",
   "execution_count": 22,
   "id": "b3d1bdd2-4d0a-4ddb-ae0d-7a2ff90feaee",
   "metadata": {},
   "outputs": [
    {
     "data": {
      "text/plain": [
       "['one', 'two']"
      ]
     },
     "execution_count": 22,
     "metadata": {},
     "output_type": "execute_result"
    }
   ],
   "source": [
    "ex_list[:2]"
   ]
  },
  {
   "cell_type": "code",
   "execution_count": 23,
   "id": "2fa1a69c-7346-4502-840e-341f42b72c9c",
   "metadata": {},
   "outputs": [
    {
     "data": {
      "text/plain": [
       "['two', 'three']"
      ]
     },
     "execution_count": 23,
     "metadata": {},
     "output_type": "execute_result"
    }
   ],
   "source": [
    "ex_list[-2:]"
   ]
  },
  {
   "cell_type": "markdown",
   "id": "9e4b9186-2e7b-4dbe-9225-d92543612109",
   "metadata": {},
   "source": [
    "### Appending & Deleting\n",
    "Items may be added to a list."
   ]
  },
  {
   "cell_type": "code",
   "execution_count": 24,
   "id": "c21f42dd-84f5-4e06-8e6d-460878e99f14",
   "metadata": {},
   "outputs": [],
   "source": [
    "ex_list = ['one', 'two', 'three']"
   ]
  },
  {
   "cell_type": "code",
   "execution_count": 25,
   "id": "92bf9d3b-3326-4cf7-9b2e-7f49ab4f3700",
   "metadata": {},
   "outputs": [
    {
     "data": {
      "text/plain": [
       "['one', 'two', 'three', 'four']"
      ]
     },
     "execution_count": 25,
     "metadata": {},
     "output_type": "execute_result"
    }
   ],
   "source": [
    "ex_list.append('four')\n",
    "ex_list"
   ]
  },
  {
   "cell_type": "code",
   "execution_count": 26,
   "id": "503ef75d-bd56-481d-9f0c-2c209f54b4d8",
   "metadata": {},
   "outputs": [
    {
     "data": {
      "text/plain": [
       "['one', 'two', 'three']"
      ]
     },
     "execution_count": 26,
     "metadata": {},
     "output_type": "execute_result"
    }
   ],
   "source": [
    "ex_list.remove('four')\n",
    "ex_list"
   ]
  },
  {
   "cell_type": "code",
   "execution_count": 27,
   "id": "794e67ba-70c0-43e2-adf4-1a12ba617f0d",
   "metadata": {},
   "outputs": [],
   "source": [
    "ex_list = ['one', 'two', 'three']"
   ]
  },
  {
   "cell_type": "code",
   "execution_count": 28,
   "id": "d6a298f8-4114-4cb0-86a0-d55dc17bf0bc",
   "metadata": {},
   "outputs": [
    {
     "name": "stdout",
     "output_type": "stream",
     "text": [
      "['one', 'two', 'three']\n",
      "four\n"
     ]
    }
   ],
   "source": [
    "# Pop is similar to .remove but returns the object that is removed\n",
    "ex_list.append('four')\n",
    "four_str = ex_list.pop(-1)\n",
    "print(ex_list)\n",
    "print(four_str)"
   ]
  },
  {
   "cell_type": "markdown",
   "id": "f17c3f0f-5b16-4494-91e9-595ccc3b95cc",
   "metadata": {},
   "source": [
    "### Tuple\n",
    "Tuples are like lists but the __cannot__ be changed. This is called `immutable`, whereas list are `mutable`."
   ]
  },
  {
   "cell_type": "code",
   "execution_count": 29,
   "id": "29bcaaa1-128b-4e39-be2e-717a971df6c6",
   "metadata": {},
   "outputs": [
    {
     "data": {
      "text/plain": [
       "('one', 'two', 'three')"
      ]
     },
     "execution_count": 29,
     "metadata": {},
     "output_type": "execute_result"
    }
   ],
   "source": [
    "ex_tuple = ('one', 'two', 'three')\n",
    "ex_tuple"
   ]
  },
  {
   "cell_type": "markdown",
   "id": "0d69c15b-1bf1-4c10-96e0-8d8ccb28754b",
   "metadata": {},
   "source": [
    "### Dictionaries\n",
    "Dictionary contains objects as _values_ that may be accessed using _keys_. Dictionaries are intialized using curly brackets."
   ]
  },
  {
   "cell_type": "code",
   "execution_count": 30,
   "id": "607f8fa0-49d9-4b89-8fd4-e6ef687c57ac",
   "metadata": {},
   "outputs": [
    {
     "data": {
      "text/plain": [
       "{'key0': [0, 1, 2], 'key1': ['a', 'b', 'c']}"
      ]
     },
     "execution_count": 30,
     "metadata": {},
     "output_type": "execute_result"
    }
   ],
   "source": [
    "ex_dict = {}\n",
    "ex_dict['key0'] = [0, 1, 2]\n",
    "ex_dict['key1'] = ['a', 'b', 'c']\n",
    "ex_dict"
   ]
  },
  {
   "cell_type": "code",
   "execution_count": 31,
   "id": "b2eb7c1e-0956-4b6a-8d68-03c91e88557e",
   "metadata": {},
   "outputs": [
    {
     "data": {
      "text/plain": [
       "[0, 1, 2]"
      ]
     },
     "execution_count": 31,
     "metadata": {},
     "output_type": "execute_result"
    }
   ],
   "source": [
    "ex_dict['key0']"
   ]
  },
  {
   "cell_type": "code",
   "execution_count": 32,
   "id": "24e690c5-7402-41fb-be51-3bcf6876f976",
   "metadata": {},
   "outputs": [
    {
     "data": {
      "text/plain": [
       "['a', 'b', 'c']"
      ]
     },
     "execution_count": 32,
     "metadata": {},
     "output_type": "execute_result"
    }
   ],
   "source": [
    "ex_dict['key1']"
   ]
  },
  {
   "cell_type": "code",
   "execution_count": 33,
   "id": "c5c9f97c-2ee6-46f2-ad83-a6aded548f34",
   "metadata": {},
   "outputs": [
    {
     "data": {
      "text/plain": [
       "[0, 1, 2]"
      ]
     },
     "execution_count": 33,
     "metadata": {},
     "output_type": "execute_result"
    }
   ],
   "source": [
    "zero_to_two = ex_dict.pop('key0')\n",
    "zero_to_two"
   ]
  },
  {
   "cell_type": "code",
   "execution_count": 34,
   "id": "37e43d7b-6f86-4279-b17e-e4d510d5fe00",
   "metadata": {},
   "outputs": [
    {
     "data": {
      "text/plain": [
       "{'key1': ['a', 'b', 'c']}"
      ]
     },
     "execution_count": 34,
     "metadata": {},
     "output_type": "execute_result"
    }
   ],
   "source": [
    "ex_dict"
   ]
  },
  {
   "cell_type": "markdown",
   "id": "48c2396a-1c93-45a2-ac4c-d09116532ded",
   "metadata": {},
   "source": [
    "### For Loops\n",
    "\n",
    "Collections of objects may be iterated over, one-by-one.\n",
    "\n",
    "### Generators\n",
    "\n",
    "Generators provide ways to generate a series of objects. They are not evaluated until they are iterate over or coerced to a collection type - this provides memory benefits.\n",
    "\n",
    "### Flow Control\n",
    "\n",
    "For loops may be ended early using `break`. Moving to the next iteration is accomplished with `continue`."
   ]
  },
  {
   "cell_type": "code",
   "execution_count": 35,
   "id": "8c012ef2-9afb-42c5-853a-ec5bc7e99ff9",
   "metadata": {},
   "outputs": [
    {
     "data": {
      "text/plain": [
       "range(0, 10)"
      ]
     },
     "execution_count": 35,
     "metadata": {},
     "output_type": "execute_result"
    }
   ],
   "source": [
    "# Ranges are generators\n",
    "#   Note: range's start with 0 and end on n-1.\n",
    "ex_list = range(10)\n",
    "\n",
    "ex_list"
   ]
  },
  {
   "cell_type": "code",
   "execution_count": 36,
   "id": "455e01a2-fd9c-49cb-ad34-d04dd67bd8c5",
   "metadata": {},
   "outputs": [
    {
     "data": {
      "text/plain": [
       "[0, 1, 2, 3, 4, 5, 6, 7, 8, 9]"
      ]
     },
     "execution_count": 36,
     "metadata": {},
     "output_type": "execute_result"
    }
   ],
   "source": [
    "# Coercion to a list\n",
    "list(range(10))"
   ]
  },
  {
   "cell_type": "code",
   "execution_count": 37,
   "id": "847682fa-932c-4e3f-baef-62ff3dd88f79",
   "metadata": {},
   "outputs": [
    {
     "name": "stdout",
     "output_type": "stream",
     "text": [
      "0\n",
      "1\n",
      "2\n",
      "3\n",
      "4\n",
      "5\n",
      "6\n",
      "7\n",
      "8\n",
      "9\n"
     ]
    }
   ],
   "source": [
    "# Iterate over a range generator\n",
    "for i in range(10):\n",
    "    print(i)"
   ]
  },
  {
   "cell_type": "code",
   "execution_count": 38,
   "id": "d277402a-d37d-4d11-82bc-bf125633c98a",
   "metadata": {},
   "outputs": [
    {
     "name": "stdout",
     "output_type": "stream",
     "text": [
      "0\n",
      "1\n",
      "3\n",
      "4\n"
     ]
    }
   ],
   "source": [
    "for i in range(10):\n",
    "    if i == 2:\n",
    "        continue\n",
    "    if i >= 5:\n",
    "        break\n",
    "    print(i)"
   ]
  },
  {
   "cell_type": "code",
   "execution_count": 39,
   "id": "cb3b91bf-4926-4fa2-955a-2627e9921d15",
   "metadata": {},
   "outputs": [
    {
     "name": "stdout",
     "output_type": "stream",
     "text": [
      "is not one\n"
     ]
    }
   ],
   "source": [
    "x = 0\n",
    "\n",
    "if x == 1:\n",
    "    print('is one')\n",
    "else:\n",
    "    print('is not one')"
   ]
  },
  {
   "cell_type": "code",
   "execution_count": 40,
   "id": "986bea9a-28ff-4f23-b2e2-0386aec0782b",
   "metadata": {},
   "outputs": [
    {
     "data": {
      "text/plain": [
       "6"
      ]
     },
     "execution_count": 40,
     "metadata": {},
     "output_type": "execute_result"
    }
   ],
   "source": [
    "x = 0\n",
    "for i in range(3):\n",
    "    x += 2\n",
    "x"
   ]
  },
  {
   "cell_type": "markdown",
   "id": "a990885d-ad52-4e24-adfb-7cafb4aa299c",
   "metadata": {},
   "source": [
    "### List Comprehension\n",
    "\n",
    "For loops (and `if`/`then`s) may be compacted into a comprehension. This is __not__ recommend for long loops with complex flow control. It's function is primarily for convenience."
   ]
  },
  {
   "cell_type": "code",
   "execution_count": 41,
   "id": "a2322a05-3e34-4747-a5cb-25669e0b91f7",
   "metadata": {},
   "outputs": [
    {
     "data": {
      "text/plain": [
       "[0, 1, 2, 3]"
      ]
     },
     "execution_count": 41,
     "metadata": {},
     "output_type": "execute_result"
    }
   ],
   "source": [
    "ex_list = [i for i in range(10) if i < 4]\n",
    "ex_list"
   ]
  },
  {
   "cell_type": "markdown",
   "id": "cf6b80cf-4e7e-4af0-b532-eeed8712ab67",
   "metadata": {},
   "source": [
    "### Functions\n",
    "\n",
    "Functions are declared with `def` and should `return` an variable. Functions may be generators, if the function uses `yield` instead of `return`. `next` is used to move to the next iteration of a generator.\n",
    "\n",
    "The `return` means that object that is being return may be stored in a new object."
   ]
  },
  {
   "cell_type": "code",
   "execution_count": 42,
   "id": "3e69ad04-7279-4403-8fcc-ac848d11f371",
   "metadata": {},
   "outputs": [
    {
     "name": "stdout",
     "output_type": "stream",
     "text": [
      "8\n"
     ]
    }
   ],
   "source": [
    "def add_five(x : int):\n",
    "    return x+5\n",
    "\n",
    "# Not a new object\n",
    "value = add_five(3)\n",
    "print(value)"
   ]
  },
  {
   "cell_type": "code",
   "execution_count": 43,
   "id": "5c31eb36-476d-4a53-b691-17d9d0c92892",
   "metadata": {},
   "outputs": [
    {
     "data": {
      "text/plain": [
       "<generator object square at 0x7f70cc0617b0>"
      ]
     },
     "execution_count": 43,
     "metadata": {},
     "output_type": "execute_result"
    }
   ],
   "source": [
    "def square(x : list):\n",
    "    for i in x:\n",
    "        yield i\n",
    "    \n",
    "ex_gen = square([0, 1, 2])\n",
    "ex_gen"
   ]
  },
  {
   "cell_type": "code",
   "execution_count": 44,
   "id": "5af91594-0428-4abc-b184-db1b0b00524b",
   "metadata": {},
   "outputs": [
    {
     "data": {
      "text/plain": [
       "0"
      ]
     },
     "execution_count": 44,
     "metadata": {},
     "output_type": "execute_result"
    }
   ],
   "source": [
    "next(ex_gen)"
   ]
  },
  {
   "cell_type": "code",
   "execution_count": 45,
   "id": "cd9fd419-4579-4fa5-85cc-d13ee26c2db8",
   "metadata": {},
   "outputs": [
    {
     "data": {
      "text/plain": [
       "1"
      ]
     },
     "execution_count": 45,
     "metadata": {},
     "output_type": "execute_result"
    }
   ],
   "source": [
    "next(ex_gen)"
   ]
  },
  {
   "cell_type": "markdown",
   "id": "c12514e1-3fee-4bee-9f5d-b6966f8c6b2e",
   "metadata": {},
   "source": [
    "### Imports\n",
    "External code that doesn't come installed with python must be imported. Imports may occur at different levels. The documentation of a function may be accessed in jupyter using `shift` + `tab`."
   ]
  },
  {
   "cell_type": "code",
   "execution_count": 46,
   "id": "41bab22e-1199-4a53-835c-127f6393abdc",
   "metadata": {},
   "outputs": [
    {
     "data": {
      "text/plain": [
       "[(0, 1), (0, 2), (0, 3), (1, 2), (1, 3), (2, 3)]"
      ]
     },
     "execution_count": 46,
     "metadata": {},
     "output_type": "execute_result"
    }
   ],
   "source": [
    "from itertools import combinations\n",
    "\n",
    "# combinations returns a generator\n",
    "#   we coerce it to a list\n",
    "list(combinations(range(4), 2))"
   ]
  },
  {
   "cell_type": "markdown",
   "id": "a4ee9b35-d627-4b76-b012-eb2a95620082",
   "metadata": {},
   "source": [
    "Alternatively, we could have import the module and used dot syntax:"
   ]
  },
  {
   "cell_type": "code",
   "execution_count": 47,
   "id": "e0f419f9-7172-4ad1-b6f2-376d1b154dbf",
   "metadata": {},
   "outputs": [
    {
     "data": {
      "text/plain": [
       "[(0, 1), (0, 2), (0, 3), (1, 2), (1, 3), (2, 3)]"
      ]
     },
     "execution_count": 47,
     "metadata": {},
     "output_type": "execute_result"
    }
   ],
   "source": [
    "import itertools\n",
    "\n",
    "list(itertools.combinations(range(4), 2))"
   ]
  },
  {
   "cell_type": "markdown",
   "id": "432d83ae-e74c-4b2d-bf15-02a80e9405fe",
   "metadata": {},
   "source": [
    "### Classes\n",
    "\n",
    "Classes are custom python objects. `self` is a special variable that refers to _instances_ of class. `self` is used to access:\n",
    "\n",
    "1. Attributes (class variables)\n",
    "2. Methods (class functions)\n",
    "\n",
    "All methods an _attributes_ are accessible via dot notation. `self` will be replaced with a the name of it's _instance_. Omit `self` from functions calling from an _instance_.\n",
    "\n",
    "The `__init__` function is always ran when an object is initialized."
   ]
  },
  {
   "cell_type": "code",
   "execution_count": 48,
   "id": "691a2d1a-d8ba-4443-b9cb-c04ddad15909",
   "metadata": {},
   "outputs": [],
   "source": [
    "from datetime import datetime\n",
    "\n",
    "class Car:\n",
    "    \n",
    "    def __init__(self, make, model, color, year):\n",
    "        self.make = make\n",
    "        self.model = model\n",
    "        self.color = color\n",
    "        self.year = year\n",
    "        self.age = None\n",
    "        print('Done initializing!')\n",
    "        \n",
    "    def change_color(self, color):\n",
    "        self.color = color\n",
    "    \n",
    "    def is_toyota(self):\n",
    "        return self.model == 'toyota'\n",
    "    \n",
    "    def calc_age(self):\n",
    "        \n",
    "        # Date datetime.now() returns a date class\n",
    "        #   .year is an attribute that we access\n",
    "        this_year = datetime.now().year\n",
    "        \n",
    "        self.age = this_year - self.year"
   ]
  },
  {
   "cell_type": "markdown",
   "id": "9042dff4-3e00-4224-952e-5a8bc85e8f19",
   "metadata": {},
   "source": [
    "Below, `my_car` is called an _instance_ of the `Car` class."
   ]
  },
  {
   "cell_type": "code",
   "execution_count": 49,
   "id": "d42edfd5-c042-4089-9913-37bbf0c48df9",
   "metadata": {},
   "outputs": [
    {
     "name": "stdout",
     "output_type": "stream",
     "text": [
      "Done initializing!\n"
     ]
    }
   ],
   "source": [
    "# Everything is __init__ is ran\n",
    "my_car = Car('toyota', 'prius', 'white', 2017)"
   ]
  },
  {
   "cell_type": "markdown",
   "id": "d0227222-09ce-4ce7-a028-7a46ef15beea",
   "metadata": {},
   "source": [
    "Attibutes are access with `class.attribute`-like syntax and methods (functions) are access with `class.func()`"
   ]
  },
  {
   "cell_type": "code",
   "execution_count": 50,
   "id": "2a96f7ec-b166-4098-a7a8-5f626a75bd07",
   "metadata": {},
   "outputs": [
    {
     "data": {
      "text/plain": [
       "'white'"
      ]
     },
     "execution_count": 50,
     "metadata": {},
     "output_type": "execute_result"
    }
   ],
   "source": [
    "my_car.color"
   ]
  },
  {
   "cell_type": "code",
   "execution_count": 51,
   "id": "df4db014-ce5b-4926-be1f-1293291fad8e",
   "metadata": {},
   "outputs": [
    {
     "data": {
      "text/plain": [
       "'black'"
      ]
     },
     "execution_count": 51,
     "metadata": {},
     "output_type": "execute_result"
    }
   ],
   "source": [
    "my_car.change_color('black')\n",
    "my_car.color"
   ]
  },
  {
   "cell_type": "code",
   "execution_count": 52,
   "id": "0ae5dbb4-807b-4ade-ac51-6224a3d69581",
   "metadata": {},
   "outputs": [
    {
     "data": {
      "text/plain": [
       "False"
      ]
     },
     "execution_count": 52,
     "metadata": {},
     "output_type": "execute_result"
    }
   ],
   "source": [
    "my_car.is_toyota()"
   ]
  },
  {
   "cell_type": "code",
   "execution_count": 53,
   "id": "53a865de-2286-43e4-bfbf-158ffa33d72d",
   "metadata": {},
   "outputs": [],
   "source": [
    "my_car.age"
   ]
  },
  {
   "cell_type": "code",
   "execution_count": 54,
   "id": "bb385037-5bbb-4034-8ade-994a18f4d63d",
   "metadata": {},
   "outputs": [
    {
     "data": {
      "text/plain": [
       "5"
      ]
     },
     "execution_count": 54,
     "metadata": {},
     "output_type": "execute_result"
    }
   ],
   "source": [
    "my_car.calc_age()\n",
    "my_car.age"
   ]
  },
  {
   "cell_type": "code",
   "execution_count": 55,
   "id": "64a2d695-4a2d-40c4-bea3-11e925e49a3b",
   "metadata": {},
   "outputs": [
    {
     "name": "stdout",
     "output_type": "stream",
     "text": [
      "Done initializing!\n"
     ]
    }
   ],
   "source": [
    "# new instance\n",
    "your_car = Car('lexus', 'rx', 'grey', 2005)"
   ]
  },
  {
   "cell_type": "code",
   "execution_count": 56,
   "id": "9a49b071-cabf-458e-95f8-f7d83b5a5679",
   "metadata": {},
   "outputs": [
    {
     "data": {
      "text/plain": [
       "False"
      ]
     },
     "execution_count": 56,
     "metadata": {},
     "output_type": "execute_result"
    }
   ],
   "source": [
    "your_car.year == my_car.year"
   ]
  }
 ],
 "metadata": {
  "kernelspec": {
   "display_name": "Python 3",
   "language": "python",
   "name": "python3"
  },
  "language_info": {
   "codemirror_mode": {
    "name": "ipython",
    "version": 3
   },
   "file_extension": ".py",
   "mimetype": "text/x-python",
   "name": "python",
   "nbconvert_exporter": "python",
   "pygments_lexer": "ipython3",
   "version": "3.8.10"
  }
 },
 "nbformat": 4,
 "nbformat_minor": 5
}
